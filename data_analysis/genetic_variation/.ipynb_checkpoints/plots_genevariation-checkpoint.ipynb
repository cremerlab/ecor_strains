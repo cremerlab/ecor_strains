{
 "cells": [
  {
   "cell_type": "code",
   "execution_count": 39,
   "metadata": {
    "collapsed": false,
    "jupyter": {
     "outputs_hidden": false
    },
    "tags": []
   },
   "outputs": [],
   "source": [
    "#import sys, os\n",
    "#sys.path.insert(0, os.path.expanduser('~/.local/lib/python3.8/site-packages'))\n",
    "\n",
    "#import glob \n",
    "#import cremerlab.hplc\n",
    "\n",
    "#load required pacakges (as always)\n",
    "import numpy as np\n",
    "import matplotlib.pyplot as plt\n",
    "import pandas as pd\n",
    "import scipy.integrate as spi\n",
    "#import colorcet as cc\n",
    "from scipy.integrate import odeint #this is the module to solve ODEs\n",
    "%matplotlib inline\n",
    "# Load the scipy module\n",
    "import scipy.stats \n",
    "import matplotlib as mpl\n",
    "mpl.rcParams['pdf.fonttype'] = 42\n",
    "import json\n",
    "import seaborn as sns\n",
    "\n",
    "#import met_brewer\n",
    "#colors = met_brew(name=\"Egypt\", n=4, brew_type=\"discrete\")\n",
    "colors=[\"#dd5129\",\"#0f7ba2\",\"#43b284\",\"#fab255\"] #met_brewer egypt\n",
    "#colores used to indicate different carbon sources\n",
    "colorlistcarbhighlight=[\"#d95f02\",\"b\",\"#7570b3\",\"#e7298a\"] #\"#1b9e77\"\n",
    "carbhighlight=[\"LB\",\"Glucose\",\"Succinate\",\"Acetate\"]\n",
    "\n",
    "palette = ['#9df2f2','#009292','#ffb6db','#c48efa','#6db6ff','#b6dbff','#cf8d4c','#fca651','#56bf56','#ffff6d']\n",
    "carsource_list=[\"LB\",\"Glu+CAA\",\"Gly+CAA\",\"Glucose\",\"Maltose\",\"Glycerol\",\"Succinate\",\"Fructose\",\"Acetate\"]\n",
    "colorlistcarb=[colors[0],\"gray\",\"gray\",colors[1],\"gray\",\"gray\",colors[2],\"gray\",colors[3]]\n",
    "alpha=0.5 #transparancy colors"
   ]
  },
  {
   "cell_type": "code",
   "execution_count": 68,
   "metadata": {},
   "outputs": [],
   "source": [
    "# read in information about metabolic genes needed for growth on different carbon sources\n",
    "metabolic_genes=pd.read_csv(\"metabolic_genes.csv\")\n",
    "#display(metabolic_genes.head())\n",
    "\n",
    "# read in similarity information (comparison to lab strain K12, following Rachel's analysis)\n",
    "gene_similarity=pd.read_csv(\"../../data/genomic_analysis/AA_SeqIDTables/2023-04-27_NCM3722AsRef.csv\")\n",
    "gene_similarity = gene_similarity.rename(columns={'strain': 'strain_alternative'})\n",
    "\n",
    "#add additional information about strains\n",
    "straininfo=pd.read_csv(\"../../data/strainlist.csv\")\n",
    "gene_similarity=gene_similarity.merge(straininfo,on=\"strain_alternative\",how=\"left\")\n",
    "#display(straininfo[\"strain_alternative\"].unique())\n",
    "\n",
    "# merge information about genes (manually curated information)\n",
    "gene_similarity=gene_similarity.merge(metabolic_genes,on=\"gene\",how=\"left\")\n",
    "#display(gene_similarity.shape)\n",
    "\n",
    "# merge information about genes (clusturing according to COG etc)\n",
    "# ... add\n",
    "\n",
    "\n",
    "#set strain as index\n",
    "gene_similarity.set_index(\"strain\",inplace=True)\n",
    "#display(gene_similarity.head())\n"
   ]
  },
  {
   "cell_type": "code",
   "execution_count": null,
   "metadata": {},
   "outputs": [],
   "source": []
  },
  {
   "cell_type": "code",
   "execution_count": 73,
   "metadata": {},
   "outputs": [
    {
     "data": {
      "text/plain": [
       "array(['acetate', 'glucose', 'pts', 'succinate'], dtype=object)"
      ]
     },
     "metadata": {},
     "output_type": "display_data"
    },
    {
     "data": {
      "text/plain": [
       "array(['aceA', 'aceB', 'aceK', 'ackA', 'acs', 'actP', 'pta', 'satP',\n",
       "       'ptsG', 'crr', 'ptsH', 'ptsI', 'dctA'], dtype=object)"
      ]
     },
     "metadata": {},
     "output_type": "display_data"
    },
    {
     "data": {
      "text/plain": [
       "Text(0, 0.5, 'native strains')"
      ]
     },
     "execution_count": 73,
     "metadata": {},
     "output_type": "execute_result"
    },
    {
     "data": {
      "image/png": "[encoded data removed]",
      "text/plain": [
       "<Figure size 400x300 with 2 Axes>"
      ]
     },
     "metadata": {},
     "output_type": "display_data"
    }
   ],
   "source": [
    "functionlist=[\"succinate\",'acetate','glucose','pts']\n",
    "strainselect=['ECOR01','ECOR02','ECOR09','ECOR13','ECOR15','ECOR24','ECOR26','ECOR28','ECOR35','ECOR36','ECOR38','ECOR39','ECOR41','ECOR42','ECOR51','ECOR53','ECOR54','ECOR55','ECOR59','ECOR61','ECOR63']#,'NCM3722']#,'Isolate_1', 'Isolate_2','Isolate_3','Isolate_4', 'Isolate_5', 'Isolate_6']\n",
    "\n",
    "#select only subset of strains (e.g. those exp. characterized)\n",
    "gene_similarity=gene_similarity.loc[strainselect]\n",
    "\n",
    "#select only genes belonging to function of interest\n",
    "gene_similarity=gene_similarity.loc[gene_similarity[\"function\"].isin(functionlist)]\n",
    "#sort according to function and gene\n",
    "gene_similarity.sort_values([\"function\",\"gene\"],inplace=True) \n",
    "\n",
    "#generate table for plotting\n",
    "table_toplot = pd.pivot_table(gene_similarity, values='seq_id', index=['strain'], columns=['gene'], aggfunc=\"mean\")\n",
    "#display(table_toplot)\n",
    "\n",
    "display(gene_similarity[\"function\"].unique())\n",
    "display(gene_similarity[\"gene\"].unique())\n",
    "# plot heatmap\n",
    "fig, ax = plt.subplots(figsize=(4,3))\n",
    "pos=ax.imshow(table_toplot,cmap='magma',aspect='auto',vmin=80)\n",
    "\n",
    "ax.set_xticks(range(0,table_toplot.shape[1]))\n",
    "ax.set_xticklabels(table_toplot.columns,rotation=45)\n",
    "\n",
    "cb=fig.colorbar(pos, ax=ax,location='top')\n",
    "cb.set_label(\"AA similarity w/ K12 (%)\")\n",
    "ax.set_ylabel(\"native strains\")"
   ]
  },
  {
   "cell_type": "code",
   "execution_count": null,
   "metadata": {},
   "outputs": [],
   "source": []
  }
 ],
 "metadata": {
  "kernelspec": {
   "display_name": "Python 3 (ipykernel)",
   "language": "python",
   "name": "python3"
  },
  "language_info": {
   "codemirror_mode": {
    "name": "ipython",
    "version": 3
   },
   "file_extension": ".py",
   "mimetype": "text/x-python",
   "name": "python",
   "nbconvert_exporter": "python",
   "pygments_lexer": "ipython3",
   "version": "3.11.0"
  }
 },
 "nbformat": 4,
 "nbformat_minor": 4
}
